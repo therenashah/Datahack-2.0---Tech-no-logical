{
 "cells": [
  {
   "cell_type": "code",
   "execution_count": 6,
   "metadata": {},
   "outputs": [
    {
     "data": {
      "text/plain": [
       "['Second section A.A.K. v. Sakarya (Request No. 56578/11) ARRÊT Art. 8 • Privacy • Legal guardianship of the applicant, following a procedure which concluded that she suffered from a mental disorder affecting her ability to act • Existence of effective safeguards in the internal procedure to prevent abuses by ensuring that the applicant’s rights and interests are taken into account • Participation of the applicant in the decision-making process at all stages of the procedure • Judicial mechanism having proceeded with the necessary fairness and diligence and having gathered sufficient elements to assess the applicant’s abilities and to prevent possible injustices • Limitation of the measure in time and in its subject-matter • Possibility of periodic review of two years, for the purposes of waiving the guardianship measure • Measure wai']"
      ]
     },
     "execution_count": 6,
     "metadata": {},
     "output_type": "execute_result"
    }
   ],
   "source": [
    "from transformers import AutoTokenizer, MBartForConditionalGeneration, MBart50TokenizerFast\n",
    "\n",
    "article_tr = \"DEUXIÈME SECTION\\nAFFAIRE A.A.K. c. TÜRKİYE\\n(Requête no 56578/11)\\nARRÊT\\nArt 8 • Vie privée • Mise sous tutelle judiciaire de la requérante, à l’issue d’une \\nprocédure ayant conclu qu’elle souffrait d’un trouble mental entravant sa capacité \\nd’agir • Existence de garanties effectives dans la procédure interne pour prévenir les \\nabus en veillant à ce que les droits et les intérêts de la requérante soient pris en \\ncompte • Participation de la requérante au processus décisionnel à tous les stades de \\nla procédure • Mécanisme judiciaire ayant procédé avec l’équité et la diligence \\nnécessaire ainsi qu’ayant rassemblé suffisamment d’éléments pour évaluer les \\nfacultés de la requérante et pour prévenir d’éventuelles injustices • Limitation de la \\nmesure dans le temps et dans son objet • Possibilité de révision périodique de deux \\nans, aux fins de la levée de la mesure de tutelle • Mesure levée par un tribunal \\nconformément aux conclusions d’une nouvelle expertise psychiatrique\\nSTRASBOURG\\n3 octobre 2023\\nCet arrêt deviendra définitif dans les conditions définies à l’article 44 § 2 de la \\nConvention. Il peut subir des retouches de forme.\"\n",
    "\n",
    "model = MBartForConditionalGeneration.from_pretrained(\"facebook/mbart-large-50-many-to-many-mmt\")\n",
    "# tokenizer = MBart50TokenizerFast.from_pretrained(\"facebook/mbart-large-50\", src_lang=\"en_XX\", tgt_lang=\"ro_RO\")\n",
    "tokenizer = AutoTokenizer.from_pretrained(\"facebook/mbart-large-50\", use_fast=False)\n",
    "\n",
    "# translate Hindi to French\n",
    "tokenizer.src_lang = \"es_XX\"\n",
    "encoded_hi = tokenizer(article_tr, return_tensors=\"pt\")\n",
    "generated_tokens = model.generate(\n",
    "    **encoded_hi,\n",
    "    forced_bos_token_id=tokenizer.lang_code_to_id[\"en_XX\"]\n",
    ")\n",
    "tokenizer.batch_decode(generated_tokens, skip_special_tokens=True)\n",
    "# => \"Le chef de l 'ONU affirme qu 'il n 'y a pas de solution militaire dans la Syrie.\""
   ]
  }
 ],
 "metadata": {
  "kernelspec": {
   "display_name": "Python 3",
   "language": "python",
   "name": "python3"
  },
  "language_info": {
   "codemirror_mode": {
    "name": "ipython",
    "version": 3
   },
   "file_extension": ".py",
   "mimetype": "text/x-python",
   "name": "python",
   "nbconvert_exporter": "python",
   "pygments_lexer": "ipython3",
   "version": "3.9.6"
  }
 },
 "nbformat": 4,
 "nbformat_minor": 2
}
