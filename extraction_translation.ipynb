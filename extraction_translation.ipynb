{
 "cells": [
  {
   "cell_type": "code",
   "execution_count": 2,
   "metadata": {},
   "outputs": [
    {
     "name": "stdout",
     "output_type": "stream",
     "text": [
      "Requirement already satisfied: pyPDF2 in d:\\anaconda\\lib\\site-packages (3.0.1)\n",
      "Requirement already satisfied: typing_extensions>=3.10.0.0; python_version < \"3.10\" in d:\\anaconda\\lib\\site-packages (from pyPDF2) (4.7.1)\n"
     ]
    }
   ],
   "source": [
    "!pip install pyPDF2"
   ]
  },
  {
   "cell_type": "code",
   "execution_count": 5,
   "metadata": {},
   "outputs": [],
   "source": [
    "import PyPDF2 as pdf"
   ]
  },
  {
   "cell_type": "code",
   "execution_count": 8,
   "metadata": {},
   "outputs": [],
   "source": [
    "file = open('C:\\\\Users\\\\Admin\\\\Desktop\\\\Datahack\\\\pdfs\\\\AFFAIRE A.A.K. c. TÜRKiYE.pdf', 'rb')"
   ]
  },
  {
   "cell_type": "code",
   "execution_count": 9,
   "metadata": {},
   "outputs": [
    {
     "data": {
      "text/plain": [
       "<_io.BufferedReader name='C:\\\\Users\\\\Admin\\\\Desktop\\\\Datahack\\\\pdfs\\\\AFFAIRE A.A.K. c. TÜRKiYE.pdf'>"
      ]
     },
     "execution_count": 9,
     "metadata": {},
     "output_type": "execute_result"
    }
   ],
   "source": [
    "file"
   ]
  },
  {
   "cell_type": "code",
   "execution_count": 11,
   "metadata": {},
   "outputs": [
    {
     "data": {
      "text/plain": [
       "<PyPDF2._reader.PdfReader at 0x1b818766948>"
      ]
     },
     "execution_count": 11,
     "metadata": {},
     "output_type": "execute_result"
    }
   ],
   "source": [
    "pdf_reader = pdf.PdfReader(file)\n",
    "pdf_reader\n"
   ]
  },
  {
   "cell_type": "code",
   "execution_count": 21,
   "metadata": {},
   "outputs": [
    {
     "data": {
      "text/plain": [
       "'DEUXIÈME SECTION\\nAFFAIRE A.A.K. c. TÜRKİYE\\n(Requête no 56578/11)\\nARRÊT\\nArt 8 • Vie privée • Mise sous tutelle judiciaire de la requérante, à l’issue d’une \\nprocédure ayant conclu qu’elle souffrait d’un trouble mental entravant sa capacité \\nd’agir • Existence de garanties effectives dans la procédure interne pour prévenir les \\nabus en veillant à ce que les droits et les intérêts de la requérante soient pris en \\ncompte • Participation de la requérante au processus décisionnel à tous les stades de \\nla procédure • Mécanisme judiciaire ayant procédé avec l’équité et la diligence \\nnécessaire ainsi qu’ayant rassemblé suffisamment d’éléments pour évaluer les \\nfacultés de la requérante et pour prévenir d’éventuelles injustices • Limitation de la \\nmesure dans le temps et dans son objet • Possibilité de révision périodique de deux \\nans, aux fins de la levée de la mesure de tutelle • Mesure levée par un tribunal \\nconformément aux conclusions d’une nouvelle expertise psychiatrique\\nSTRASBOURG\\n3 octobre 2023\\nCet arrêt deviendra définitif dans les conditions définies à l’article 44 § 2 de la \\nConvention. Il peut subir des retouches de forme.'"
      ]
     },
     "execution_count": 21,
     "metadata": {},
     "output_type": "execute_result"
    }
   ],
   "source": [
    "numPages = len(pdf_reader.pages)\n",
    "#pdf_reader.is_encrypted()\n",
    "page1 = pdf_reader.pages[0]\n",
    "page1.extract_text()"
   ]
  },
  {
   "cell_type": "code",
   "execution_count": null,
   "metadata": {},
   "outputs": [],
   "source": []
  }
 ],
 "metadata": {
  "kernelspec": {
   "display_name": "Python 3",
   "language": "python",
   "name": "python3"
  },
  "language_info": {
   "codemirror_mode": {
    "name": "ipython",
    "version": 3
   },
   "file_extension": ".py",
   "mimetype": "text/x-python",
   "name": "python",
   "nbconvert_exporter": "python",
   "pygments_lexer": "ipython3",
   "version": "3.7.6"
  }
 },
 "nbformat": 4,
 "nbformat_minor": 4
}
